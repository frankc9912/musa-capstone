{
 "cells": [
  {
   "cell_type": "markdown",
   "metadata": {},
   "source": [
    "# Process Data\n",
    "\n",
    "## LiDAR Data"
   ]
  },
  {
   "cell_type": "code",
   "execution_count": 1,
   "metadata": {},
   "outputs": [],
   "source": [
    "import os\n",
    "import re\n",
    "import json\n",
    "import pdal\n",
    "import rasterio\n",
    "import numpy as np"
   ]
  },
  {
   "cell_type": "code",
   "execution_count": 3,
   "metadata": {},
   "outputs": [],
   "source": [
    "lidar_dir = \"../data/lidar\"\n",
    "dsm_dir = \"../data/dsm\"\n",
    "dtm_dir = \"../data/dtm\"\n",
    "ndsm_dir = \"../data/ndsm\"\n",
    "\n",
    "os.makedirs(dsm_dir, exist_ok=True)\n",
    "os.makedirs(dtm_dir, exist_ok=True)\n",
    "os.makedirs(ndsm_dir, exist_ok=True)"
   ]
  },
  {
   "cell_type": "code",
   "execution_count": 11,
   "metadata": {},
   "outputs": [],
   "source": [
    "# Loop through each file in the lidar directory.\n",
    "for file in os.listdir(lidar_dir):\n",
    "    # Use a regex to match files ending with _<number>.las\n",
    "    match = re.search(r'_(\\d+)\\.las$', file)\n",
    "    if match:\n",
    "        num = int(match.group(1))\n",
    "        # Process only if the number is between 100 and 200.\n",
    "        if 231 <= num <= 430:\n",
    "            file_path = os.path.join(lidar_dir, file)\n",
    "\n",
    "            output_dsm = os.path.join(dsm_dir, f\"{file.split('.')[0]}_dsm.tif\")\n",
    "            output_dtm = os.path.join(dtm_dir, f\"{file.split('.')[0]}_dtm.tif\")\n",
    "            output_ndsm = os.path.join(ndsm_dir, f\"{file.split('.')[0]}_ndsm.tif\")\n",
    "\n",
    "            # Create a pipeline to read the LAS file and get metadata.\n",
    "            pipeline_json = {\n",
    "                \"pipeline\": [\n",
    "                    file_path,\n",
    "                    {\n",
    "                        \"type\": \"filters.info\"\n",
    "                    }\n",
    "                ]\n",
    "            }\n",
    "\n",
    "            # Run PDAL pipeline.\n",
    "            pipeline = pdal.Pipeline(json.dumps(pipeline_json))\n",
    "            pipeline.execute()\n",
    "\n",
    "            # Retrieve metadata.\n",
    "            metadata = pipeline.metadata\n",
    "            nav = metadata['metadata']['filters.info']['bbox']\n",
    "\n",
    "            max_x = nav['maxx']\n",
    "            max_y = nav['maxy']\n",
    "            min_x = nav['minx']\n",
    "            min_y = nav['miny']\n",
    "\n",
    "            dtm_pipeline = {\n",
    "                \"pipeline\": [\n",
    "                    file_path,\n",
    "                    {\n",
    "                        \"type\": \"filters.smrf\",  # Simple Morphological Filter to classify ground points.\n",
    "                        \"ignore\": \"Classification[7:7]\",  # Ignore noise.\n",
    "                        \"slope\": 0.2,\n",
    "                        \"window\": 16,\n",
    "                        \"threshold\": 0.5,\n",
    "                        \"cell\": 1.0\n",
    "                    },\n",
    "                    {\n",
    "                        \"type\": \"filters.range\",\n",
    "                        \"limits\": \"Classification[2:2]\"  # Select only ground points.\n",
    "                    },\n",
    "                    {\n",
    "                        \"type\": \"writers.gdal\",\n",
    "                        \"filename\": output_dtm,\n",
    "                        \"output_type\": \"idw\",  # Inverse Distance Weighting interpolation.\n",
    "                        \"resolution\": 1.0,\n",
    "                        \"bounds\": f\"([{min_x}, {max_x}], [{min_y}, {max_y}])\"\n",
    "                    }\n",
    "                ]\n",
    "            }\n",
    "\n",
    "            # Initialize the PDAL pipeline for DTM.\n",
    "            p_dtm = pdal.Pipeline(json.dumps(dtm_pipeline))\n",
    "            p_dtm.execute()\n",
    "\n",
    "            dsm_pipeline = {\n",
    "                \"pipeline\": [\n",
    "                    file_path,\n",
    "                    {\n",
    "                        \"type\": \"writers.gdal\",\n",
    "                        \"filename\": output_dsm,\n",
    "                        \"output_type\": \"idw\",\n",
    "                        \"resolution\": 1.0,\n",
    "                        \"bounds\": f\"([{min_x}, {max_x}], [{min_y}, {max_y}])\"\n",
    "                    }\n",
    "                ]\n",
    "            }\n",
    "\n",
    "            # Execute the DSM pipeline.\n",
    "            p_dsm = pdal.Pipeline(json.dumps(dsm_pipeline))\n",
    "            p_dsm.execute()\n",
    "\n",
    "            # Load the DSM and DTM data.\n",
    "            with rasterio.open(output_dsm) as dsm_src, rasterio.open(output_dtm) as dtm_src:\n",
    "                dsm_data = dsm_src.read(1)\n",
    "                dtm_data = dtm_src.read(1)\n",
    "\n",
    "                # Compute nDSM.\n",
    "                ndsm_data = dsm_data - dtm_data\n",
    "\n",
    "                # Save the result as a new raster.\n",
    "                ndsm_meta = dsm_src.meta.copy()\n",
    "                ndsm_meta.update({\"dtype\": \"float32\"})\n",
    "\n",
    "                with rasterio.open(output_ndsm, \"w\", **ndsm_meta) as dst:\n",
    "                    dst.write(ndsm_data.astype(np.float32), 1)\n"
   ]
  },
  {
   "cell_type": "markdown",
   "metadata": {},
   "source": [
    "# Building Footprints"
   ]
  },
  {
   "cell_type": "code",
   "execution_count": 2,
   "metadata": {},
   "outputs": [],
   "source": [
    "import geopandas as gpd"
   ]
  },
  {
   "cell_type": "code",
   "execution_count": 3,
   "metadata": {},
   "outputs": [
    {
     "ename": "NameError",
     "evalue": "name 'rasterio' is not defined",
     "output_type": "error",
     "traceback": [
      "\u001b[1;31m---------------------------------------------------------------------------\u001b[0m",
      "\u001b[1;31mNameError\u001b[0m                                 Traceback (most recent call last)",
      "Cell \u001b[1;32mIn[3], line 5\u001b[0m\n\u001b[0;32m      2\u001b[0m building \u001b[38;5;241m=\u001b[39m gpd\u001b[38;5;241m.\u001b[39mread_file(\u001b[38;5;124m\"\u001b[39m\u001b[38;5;124m../data/LI_BUILDING_FOOTPRINTS.geojson\u001b[39m\u001b[38;5;124m\"\u001b[39m)\n\u001b[0;32m      4\u001b[0m \u001b[38;5;66;03m# Load one of the ndsm files\u001b[39;00m\n\u001b[1;32m----> 5\u001b[0m ndsm_100 \u001b[38;5;241m=\u001b[39m \u001b[43mrasterio\u001b[49m\u001b[38;5;241m.\u001b[39mopen(\u001b[38;5;124m\"\u001b[39m\u001b[38;5;124m../data/ndsm/Philadelphia_100_ndsm.tif\u001b[39m\u001b[38;5;124m\"\u001b[39m)\n\u001b[0;32m      7\u001b[0m \u001b[38;5;28mprint\u001b[39m(ndsm_100\u001b[38;5;241m.\u001b[39mcrs)\n",
      "\u001b[1;31mNameError\u001b[0m: name 'rasterio' is not defined"
     ]
    }
   ],
   "source": [
    "# Load building footprints\n",
    "building = gpd.read_file(\"../data/LI_BUILDING_FOOTPRINTS.geojson\")\n",
    "\n",
    "# Load one of the ndsm files\n",
    "ndsm_100 = rasterio.open(\"../data/ndsm/Philadelphia_100_ndsm.tif\")\n",
    "\n",
    "print(ndsm_100.crs)"
   ]
  }
 ],
 "metadata": {
  "kernelspec": {
   "display_name": "spatial",
   "language": "python",
   "name": "python3"
  },
  "language_info": {
   "codemirror_mode": {
    "name": "ipython",
    "version": 3
   },
   "file_extension": ".py",
   "mimetype": "text/x-python",
   "name": "python",
   "nbconvert_exporter": "python",
   "pygments_lexer": "ipython3",
   "version": "3.10.12"
  }
 },
 "nbformat": 4,
 "nbformat_minor": 2
}
