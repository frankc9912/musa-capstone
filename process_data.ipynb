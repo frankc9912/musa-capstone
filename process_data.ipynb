{
 "cells": [
  {
   "cell_type": "markdown",
   "metadata": {},
   "source": [
    "# Process Data\n",
    "\n",
    "## LiDAR Data"
   ]
  },
  {
   "cell_type": "code",
   "execution_count": 1,
   "metadata": {},
   "outputs": [],
   "source": [
    "import os\n",
    "import re\n",
    "import json\n",
    "import pdal\n",
    "import rasterio\n",
    "import numpy as np"
   ]
  },
  {
   "cell_type": "code",
   "execution_count": 2,
   "metadata": {},
   "outputs": [],
   "source": [
    "lidar_dir = \"../data/lidar\"\n",
    "dsm_dir = \"../data/dsm\"\n",
    "dtm_dir = \"../data/dtm\"\n",
    "ndsm_dir = \"../data/ndsm\"\n",
    "\n",
    "os.makedirs(dsm_dir, exist_ok=True)\n",
    "os.makedirs(dtm_dir, exist_ok=True)\n",
    "os.makedirs(ndsm_dir, exist_ok=True)"
   ]
  },
  {
   "cell_type": "markdown",
   "metadata": {},
   "source": [
    "Check crs. https://epsg.io/6565"
   ]
  },
  {
   "cell_type": "code",
   "execution_count": 3,
   "metadata": {},
   "outputs": [
    {
     "name": "stdout",
     "output_type": "stream",
     "text": [
      "PROJCS[\"NAD83(2011) / Pennsylvania South (ftUS)\",GEOGCS[\"NAD83(2011)\",DATUM[\"NAD83_National_Spatial_Reference_System_2011\",SPHEROID[\"GRS 1980\",6378137,298.257222101,AUTHORITY[\"EPSG\",\"7019\"]],TOWGS84[0,0,0,0,0,0,0],AUTHORITY[\"EPSG\",\"1116\"]],PRIMEM[\"Greenwich\",0,AUTHORITY[\"EPSG\",\"8901\"]],UNIT[\"Degree\",0.0174532925199433,AUTHORITY[\"EPSG\",\"9102\"]]],PROJECTION[\"Lambert_Conformal_Conic_2SP\"],PARAMETER[\"false_easting\",1968500],PARAMETER[\"false_northing\",0],PARAMETER[\"central_meridian\",-77.75],PARAMETER[\"standard_parallel_1\",40.966666666667],PARAMETER[\"standard_parallel_2\",39.933333333333],PARAMETER[\"latitude_of_origin\",39.333333333333],UNIT[\"US Survey Foot\",0.304800609601219,AUTHORITY[\"EPSG\",\"9003\"]],AXIS[\"Easting\",EAST],AXIS[\"Northing\",NORTH],AUTHORITY[\"EPSG\",\"6565\"]]\n"
     ]
    }
   ],
   "source": [
    "pipeline_json = {\n",
    "    \"pipeline\": [\n",
    "        \"../data/lidar/Philadelphia_100.las\",\n",
    "        {\n",
    "            \"type\": \"filters.info\"\n",
    "        }\n",
    "    ]\n",
    "}\n",
    "\n",
    "# Run PDAL pipeline.\n",
    "pipeline = pdal.Pipeline(json.dumps(pipeline_json))\n",
    "pipeline.execute()\n",
    "\n",
    "# Retrieve metadata.\n",
    "metadata = pipeline.metadata\n",
    "\n",
    "# Extract CRS information from LAS file\n",
    "crs_wkt = metadata['metadata']['filters.info']['srs']['wkt']\n",
    "\n",
    "print(crs_wkt)\n"
   ]
  },
  {
   "cell_type": "code",
   "execution_count": 4,
   "metadata": {},
   "outputs": [],
   "source": [
    "# Loop through each file in the lidar directory.\n",
    "for file in os.listdir(lidar_dir):\n",
    "    # Use a regex to match files ending with _<number>.las\n",
    "    match = re.search(r'_(\\d+)\\.las$', file)\n",
    "    if match:\n",
    "        num = int(match.group(1))\n",
    "        # Process only if the number is between 100 and 200.\n",
    "        if 100 <= num <= 100:\n",
    "            file_path = os.path.join(lidar_dir, file)\n",
    "\n",
    "            output_dsm = os.path.join(dsm_dir, f\"{file.split('.')[0]}_dsm.tif\")\n",
    "            output_dtm = os.path.join(dtm_dir, f\"{file.split('.')[0]}_dtm.tif\")\n",
    "            output_ndsm = os.path.join(ndsm_dir, f\"{file.split('.')[0]}_ndsm.tif\")\n",
    "\n",
    "            # Create a pipeline to read the LAS file and get metadata.\n",
    "            pipeline_json = {\n",
    "                \"pipeline\": [\n",
    "                    file_path,\n",
    "                    {\n",
    "                        \"type\": \"filters.info\"\n",
    "                    }\n",
    "                ]\n",
    "            }\n",
    "\n",
    "            # Run PDAL pipeline.\n",
    "            pipeline = pdal.Pipeline(json.dumps(pipeline_json))\n",
    "            pipeline.execute()\n",
    "\n",
    "            # Retrieve metadata.\n",
    "            metadata = pipeline.metadata\n",
    "            nav = metadata['metadata']['filters.info']['bbox']\n",
    "\n",
    "            max_x = nav['maxx']\n",
    "            max_y = nav['maxy']\n",
    "            min_x = nav['minx']\n",
    "            min_y = nav['miny']\n",
    "\n",
    "            dtm_pipeline = {\n",
    "                \"pipeline\": [\n",
    "                    file_path,\n",
    "                    {\n",
    "                        \"type\": \"filters.smrf\",  # Simple Morphological Filter to classify ground points.\n",
    "                        \"ignore\": \"Classification[7:7]\",  # Ignore noise.\n",
    "                        \"slope\": 0.2,\n",
    "                        \"window\": 16,\n",
    "                        \"threshold\": 0.5,\n",
    "                        \"cell\": 1.0\n",
    "                    },\n",
    "                    {\n",
    "                        \"type\": \"filters.range\",\n",
    "                        \"limits\": \"Classification[2:2]\"  # Select only ground points.\n",
    "                    },\n",
    "                    {\n",
    "                        \"type\": \"writers.gdal\",\n",
    "                        \"filename\": output_dtm,\n",
    "                        \"output_type\": \"idw\",  # Inverse Distance Weighting interpolation.\n",
    "                        \"resolution\": 1.0,\n",
    "                        \"bounds\": f\"([{min_x}, {max_x}], [{min_y}, {max_y}])\",\n",
    "                        \"override_srs\": \"EPSG:6565\"  # Correct CRS\n",
    "                    }\n",
    "                ]\n",
    "            }\n",
    "\n",
    "            # Initialize the PDAL pipeline for DTM.\n",
    "            p_dtm = pdal.Pipeline(json.dumps(dtm_pipeline))\n",
    "            p_dtm.execute()\n",
    "\n",
    "            dsm_pipeline = {\n",
    "                \"pipeline\": [\n",
    "                    file_path,\n",
    "                    {\n",
    "                        \"type\": \"writers.gdal\",\n",
    "                        \"filename\": output_dsm,\n",
    "                        \"output_type\": \"idw\",\n",
    "                        \"resolution\": 1.0,\n",
    "                        \"bounds\": f\"([{min_x}, {max_x}], [{min_y}, {max_y}])\",\n",
    "                        \"override_srs\": \"EPSG:6565\"  # Correct CRS\n",
    "                    }\n",
    "                ]\n",
    "            }\n",
    "\n",
    "            # Execute the DSM pipeline.\n",
    "            p_dsm = pdal.Pipeline(json.dumps(dsm_pipeline))\n",
    "            p_dsm.execute()\n",
    "\n",
    "            # Load the DSM and DTM data.\n",
    "            with rasterio.open(output_dsm) as dsm_src, rasterio.open(output_dtm) as dtm_src:\n",
    "                dsm_data = dsm_src.read(1)\n",
    "                dtm_data = dtm_src.read(1)\n",
    "\n",
    "                # Compute nDSM.\n",
    "                ndsm_data = dsm_data - dtm_data\n",
    "\n",
    "                # Save the result as a new raster.\n",
    "                ndsm_meta = dsm_src.meta.copy()\n",
    "                ndsm_meta.update({\n",
    "                    \"dtype\": \"float32\",\n",
    "                    \"crs\": \"EPSG:6565\"  # Set correct CRS for nDSM\n",
    "                    })\n",
    "\n",
    "                with rasterio.open(output_ndsm, \"w\", **ndsm_meta) as dst:\n",
    "                    dst.write(ndsm_data.astype(np.float32), 1)\n"
   ]
  },
  {
   "cell_type": "code",
   "execution_count": 5,
   "metadata": {},
   "outputs": [
    {
     "name": "stdout",
     "output_type": "stream",
     "text": [
      "EPSG:6565 EPSG:6565 EPSG:6565\n"
     ]
    }
   ],
   "source": [
    "dsm = rasterio.open(os.path.join(dsm_dir, \"Philadelphia_100_dsm.tif\"))\n",
    "dtm = rasterio.open(os.path.join(dtm_dir, \"Philadelphia_100_dtm.tif\"))\n",
    "ndsm = rasterio.open(os.path.join(ndsm_dir, \"Philadelphia_100_ndsm.tif\"))\n",
    "\n",
    "print(dsm.crs, dtm.crs, ndsm.crs)"
   ]
  },
  {
   "cell_type": "markdown",
   "metadata": {},
   "source": [
    "# Building Footprints"
   ]
  },
  {
   "cell_type": "code",
   "execution_count": 6,
   "metadata": {},
   "outputs": [],
   "source": [
    "import geopandas as gpd\n",
    "import rasterio\n",
    "from rasterio.features import rasterize\n",
    "import rasterio.transform\n",
    "import matplotlib.pyplot as plt"
   ]
  },
  {
   "cell_type": "code",
   "execution_count": 9,
   "metadata": {},
   "outputs": [],
   "source": [
    "# Load building footprints\n",
    "buildings = gpd.read_file(\"../data/LI_BUILDING_FOOTPRINTS.geojson\").to_crs(\"EPSG:6565\")"
   ]
  },
  {
   "cell_type": "code",
   "execution_count": 10,
   "metadata": {},
   "outputs": [],
   "source": [
    "# Define the raster grid using the total bounds of the reprojected GeoDataFrame\n",
    "minx, miny, maxx, maxy = buildings.total_bounds\n",
    "pixel_size = 1  # adjust resolution as needed\n",
    "width = int((maxx - minx) / pixel_size)\n",
    "height = int((maxy - miny) / pixel_size)\n",
    "transform = rasterio.transform.from_origin(minx, maxy, pixel_size, pixel_size)\n",
    "\n",
    "# Rasterize: burn a value (e.g., 1) for each building footprint\n",
    "rasterized = rasterize(\n",
    "    [(geom, 1) for geom in buildings.geometry],\n",
    "    out_shape=(height, width),\n",
    "    transform=transform,\n",
    "    fill=0,\n",
    "    dtype=rasterio.uint8\n",
    ")\n",
    "\n",
    "# Save the rasterized image as a TIF file\n",
    "with rasterio.open(\n",
    "    \"../data/building_footprints.tif\",\n",
    "    \"w\",\n",
    "    driver=\"GTiff\",\n",
    "    height=height,\n",
    "    width=width,\n",
    "    count=1,\n",
    "    dtype=rasterio.uint8,\n",
    "    crs=\"EPSG:6565\",\n",
    "    transform=transform,\n",
    ") as dst:\n",
    "    dst.write(rasterized, 1)"
   ]
  },
  {
   "cell_type": "markdown",
   "metadata": {},
   "source": [
    "Next step\n",
    "\n",
    "1. Mosaic the ndsm into one big image\n",
    "2. cut the ndsm, building raster data, tree raster data into tiles\n",
    "3. get tree and building dsm for each tile"
   ]
  }
 ],
 "metadata": {
  "kernelspec": {
   "display_name": "ai4urban",
   "language": "python",
   "name": "python3"
  },
  "language_info": {
   "codemirror_mode": {
    "name": "ipython",
    "version": 3
   },
   "file_extension": ".py",
   "mimetype": "text/x-python",
   "name": "python",
   "nbconvert_exporter": "python",
   "pygments_lexer": "ipython3",
   "version": "3.10.16"
  }
 },
 "nbformat": 4,
 "nbformat_minor": 2
}
