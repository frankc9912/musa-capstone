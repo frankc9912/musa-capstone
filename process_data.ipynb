{
 "cells": [
  {
   "cell_type": "markdown",
   "metadata": {},
   "source": [
    "# Process Data\n",
    "\n",
    "## LiDAR Data"
   ]
  },
  {
   "cell_type": "code",
   "execution_count": 1,
   "metadata": {},
   "outputs": [],
   "source": [
    "import json\n",
    "import pdal\n",
    "import numpy as np\n",
    "import matplotlib.pyplot as plt\n",
    "import rasterio\n",
    "from rasterio.plot import show\n",
    "import os\n"
   ]
  },
  {
   "cell_type": "code",
   "execution_count": 2,
   "metadata": {},
   "outputs": [],
   "source": [
    "lidar_dir = \"../data/test\"\n",
    "dsm_dir = \"../data/dsm\"\n",
    "dtm_dir = \"../data/dtm\"\n",
    "ndsm_dir = \"../data/ndsm\""
   ]
  },
  {
   "cell_type": "code",
   "execution_count": 6,
   "metadata": {},
   "outputs": [
    {
     "name": "stdout",
     "output_type": "stream",
     "text": [
      "['Philadelphia_100.las']\n"
     ]
    }
   ],
   "source": [
    "import os\n",
    "print(os.listdir(lidar_dir))\n",
    "\n"
   ]
  },
  {
   "cell_type": "code",
   "execution_count": 7,
   "metadata": {},
   "outputs": [
    {
     "name": "stdout",
     "output_type": "stream",
     "text": [
      "../data/dsm\\Philadelphia_100_dsm.tif\n",
      "../data/dtm\\Philadelphia_100_dtm.tif\n",
      "../data/ndsm\\Philadelphia_100_ndsm.tif\n"
     ]
    },
    {
     "ename": "RuntimeError",
     "evalue": "Unable to open stream for 'Philadelphia_100.las' with error 'Resource temporarily unavailable'",
     "output_type": "error",
     "traceback": [
      "\u001b[1;31m---------------------------------------------------------------------------\u001b[0m",
      "\u001b[1;31mRuntimeError\u001b[0m                              Traceback (most recent call last)",
      "Cell \u001b[1;32mIn[7], line 23\u001b[0m\n\u001b[0;32m     21\u001b[0m \u001b[38;5;66;03m# Run PDAL pipeline\u001b[39;00m\n\u001b[0;32m     22\u001b[0m pipeline \u001b[38;5;241m=\u001b[39m pdal\u001b[38;5;241m.\u001b[39mPipeline(json\u001b[38;5;241m.\u001b[39mdumps(pipeline_json))\n\u001b[1;32m---> 23\u001b[0m \u001b[43mpipeline\u001b[49m\u001b[38;5;241;43m.\u001b[39;49m\u001b[43mexecute\u001b[49m\u001b[43m(\u001b[49m\u001b[43m)\u001b[49m\n\u001b[0;32m     25\u001b[0m \u001b[38;5;66;03m# Retrieve metadata\u001b[39;00m\n\u001b[0;32m     26\u001b[0m metadata \u001b[38;5;241m=\u001b[39m pipeline\u001b[38;5;241m.\u001b[39mmetadata\n",
      "\u001b[1;31mRuntimeError\u001b[0m: Unable to open stream for 'Philadelphia_100.las' with error 'Resource temporarily unavailable'"
     ]
    }
   ],
   "source": [
    "for file in os.listdir(lidar_dir):\n",
    "\n",
    "    output_dsm = os.path.join(dsm_dir, f\"{file.split('.')[0]}_dsm.tif\")\n",
    "    output_dtm = os.path.join(dtm_dir, f\"{file.split('.')[0]}_dtm.tif\")\n",
    "    output_ndsm = os.path.join(ndsm_dir, f\"{file.split('.')[0]}_ndsm.tif\")\n",
    "    \n",
    "    print(output_dsm)\n",
    "    print(output_dtm)\n",
    "    print(output_ndsm)\n",
    "\n",
    "    # Create a pipeline to read the LAS file and get metadata\n",
    "    pipeline_json = {\n",
    "        \"pipeline\": [\n",
    "            file,\n",
    "            {\n",
    "                \"type\": \"filters.info\"\n",
    "            }\n",
    "        ]\n",
    "    }\n",
    "\n",
    "    # Run PDAL pipeline\n",
    "    pipeline = pdal.Pipeline(json.dumps(pipeline_json))\n",
    "    pipeline.execute()\n",
    "\n",
    "    # Retrieve metadata\n",
    "    metadata = pipeline.metadata\n",
    "\n",
    "    nav = metadata['metadata']['filters.info']['bbox']\n",
    "\n",
    "    max_x = nav['maxx']\n",
    "    max_y = nav['maxy']\n",
    "    min_x = nav['minx']\n",
    "    min_y = nav['miny']\n",
    "\n",
    "    dtm_pipeline = {\n",
    "        \"pipeline\": [\n",
    "            file,\n",
    "            {\n",
    "                \"type\": \"filters.smrf\",  # Simple Morphological Filter to classify ground points\n",
    "                \"ignore\": \"Classification[7:7]\",  # Ignore noise\n",
    "                \"slope\": 0.2,\n",
    "                \"window\": 16,\n",
    "                \"threshold\": 0.5,\n",
    "                \"cell\": 1.0\n",
    "            },\n",
    "            {\n",
    "                \"type\": \"filters.range\",\n",
    "                \"limits\": \"Classification[2:2]\"  # Select only ground points\n",
    "            },\n",
    "            {\n",
    "                \"type\": \"writers.gdal\",\n",
    "                \"filename\": output_dtm,\n",
    "                \"output_type\": \"idw\",  # Inverse Distance Weighting interpolation\n",
    "                \"resolution\": 1.0,\n",
    "                \"bounds\": f\"([{min_x}, {max_x}], [{min_y}, {max_y}])\"\n",
    "            }\n",
    "        ]\n",
    "    }\n",
    "\n",
    "    # Initialize the PDAL pipeline with the JSON string.\n",
    "    p_dtm = pdal.Pipeline(json.dumps(dtm_pipeline))\n",
    "    p_dtm.execute()\n",
    "\n",
    "    dsm_pipeline = {\n",
    "        \"pipeline\": [\n",
    "            file,\n",
    "            {\n",
    "                \"type\": \"writers.gdal\",\n",
    "                \"filename\": output_dsm,\n",
    "                \"output_type\": \"idw\",\n",
    "                \"resolution\": 1.0,\n",
    "                \"bounds\": f\"([{min_x}, {max_x}], [{min_y}, {max_y}])\"\n",
    "            }\n",
    "        ]\n",
    "    }\n",
    "\n",
    "    # Execute the pipeline\n",
    "    p_dsm = pdal.Pipeline(json.dumps(dsm_pipeline))\n",
    "    p_dsm.execute()\n",
    "\n",
    "    # Load the DSM and DTM data\n",
    "    with rasterio.open(output_dsm) as dsm_src, rasterio.open(output_dtm) as dtm_src:\n",
    "        dsm_data = dsm_src.read(1)\n",
    "        dtm_data = dtm_src.read(1)\n",
    "\n",
    "        # Compute nDSM\n",
    "        ndsm_data = dsm_data - dtm_data\n",
    "\n",
    "        # Save the result as a new raster\n",
    "        ndsm_meta = dsm_src.meta.copy()\n",
    "        ndsm_meta.update({\"dtype\": \"float32\"})\n",
    "\n",
    "        with rasterio.open(output_ndsm, \"w\", **ndsm_meta) as dst:\n",
    "            dst.write(ndsm_data.astype(np.float32), 1)"
   ]
  }
 ],
 "metadata": {
  "kernelspec": {
   "display_name": "spatial",
   "language": "python",
   "name": "python3"
  },
  "language_info": {
   "codemirror_mode": {
    "name": "ipython",
    "version": 3
   },
   "file_extension": ".py",
   "mimetype": "text/x-python",
   "name": "python",
   "nbconvert_exporter": "python",
   "pygments_lexer": "ipython3",
   "version": "3.10.12"
  }
 },
 "nbformat": 4,
 "nbformat_minor": 2
}
