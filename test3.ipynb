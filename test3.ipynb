{
 "cells": [
  {
   "cell_type": "code",
   "execution_count": null,
   "metadata": {},
   "outputs": [],
   "source": [
    "import subprocess\n",
    "import os"
   ]
  },
  {
   "cell_type": "code",
   "execution_count": 4,
   "metadata": {},
   "outputs": [],
   "source": [
    "# Set the path to your LAStools folder (adjust if not added to PATH)\n",
    "las_tools_path = r\"D:\\LAStools\\bin\"  # Example on Windows\n",
    "\n",
    "# Helper function to call a LAStools command\n",
    "def run_tool(tool, args):\n",
    "    tool_exe = os.path.join(las_tools_path, tool)\n",
    "    command = [tool_exe] + args\n",
    "    print(\"Running:\", \" \".join(command))\n",
    "    subprocess.run(command, check=True)"
   ]
  },
  {
   "cell_type": "code",
   "execution_count": null,
   "metadata": {},
   "outputs": [
    {
     "name": "stdout",
     "output_type": "stream",
     "text": [
      "Running: D:\\LAStools\\bin\\lasground.exe -i data/Philadelphia_100.las -o ground_classified.las\n"
     ]
    }
   ],
   "source": [
    "\n",
    "\n",
    "# 1. Classify ground points (DTM extraction)\n",
    "run_tool(\"lasground.exe\", [\n",
    "    \"-i\", \"data/Philadelphia_100.las\",         # Input LAS/LAZ file\n",
    "    \"-o\", \"ground_classified.las\"  # Output file with ground classified\n",
    "])\n",
    "\n",
    "# 2. Classify non-ground features (e.g. buildings and trees)\n",
    "# This step may use lasclassify or other classification tools available in LAStools.\n",
    "# (Make sure to adjust parameters based on your data and desired classification thresholds.)\n",
    "run_tool(\"lasclassify.exe\", [\n",
    "    \"-i\", \"ground_classified.las\",\n",
    "    \"-o\", \"classified.las\"\n",
    "])\n",
    "\n",
    "# 3. Extract DSM (using highest returns)\n",
    "run_tool(\"las2dem.exe\", [\n",
    "    \"-i\", \"classified.las\",\n",
    "    \"-keep_class\", \"1 2 3 4 5 6\",  # include all classes if needed\n",
    "    \"-step\", \"1\",                 # resolution in meters (adjust as needed)\n",
    "    \"-o\", \"dsm.tif\"\n",
    "])\n",
    "\n",
    "# 4. Extract DTM (using only ground points, typically classification 2)\n",
    "run_tool(\"las2dem.exe\", [\n",
    "    \"-i\", \"classified.las\",\n",
    "    \"-keep_class\", \"2\",\n",
    "    \"-step\", \"1\",\n",
    "    \"-o\", \"dtm.tif\"\n",
    "])\n",
    "\n",
    "# 5. Compute nDSM (normalized DSM)\n",
    "# You can subtract dtm.tif from dsm.tif using GDAL tools or Python libraries (e.g., rasterio, numpy).\n",
    "# For example, using GDAL command-line:\n",
    "subprocess.run([\n",
    "    \"gdal_calc.py\",\n",
    "    \"-A\", \"dsm.tif\",\n",
    "    \"-B\", \"dtm.tif\",\n",
    "    \"--outfile=nDSM.tif\",\n",
    "    \"--calc=A-B\",\n",
    "    \"--NoDataValue=0\"\n",
    "], check=True)\n",
    "\n",
    "# 6. Extract building DSM (filtering for buildings, usually classification 6)\n",
    "run_tool(\"las2dem.exe\", [\n",
    "    \"-i\", \"classified.las\",\n",
    "    \"-keep_class\", \"6\",\n",
    "    \"-step\", \"1\",\n",
    "    \"-o\", \"building_dsm.tif\"\n",
    "])\n",
    "\n",
    "# 7. Extract tree DSM (filtering for vegetation, typically classification 5)\n",
    "run_tool(\"las2dem.exe\", [\n",
    "    \"-i\", \"classified.las\",\n",
    "    \"-keep_class\", \"5\",\n",
    "    \"-step\", \"1\",\n",
    "    \"-o\", \"tree_dsm.tif\"\n",
    "])\n"
   ]
  },
  {
   "cell_type": "code",
   "execution_count": null,
   "metadata": {},
   "outputs": [],
   "source": []
  }
 ],
 "metadata": {
  "kernelspec": {
   "display_name": "ai4urban",
   "language": "python",
   "name": "python3"
  },
  "language_info": {
   "codemirror_mode": {
    "name": "ipython",
    "version": 3
   },
   "file_extension": ".py",
   "mimetype": "text/x-python",
   "name": "python",
   "nbconvert_exporter": "python",
   "pygments_lexer": "ipython3",
   "version": "3.10.16"
  }
 },
 "nbformat": 4,
 "nbformat_minor": 2
}
